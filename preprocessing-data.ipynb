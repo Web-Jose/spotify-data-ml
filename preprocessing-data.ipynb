{
 "cells": [
  {
   "cell_type": "markdown",
   "metadata": {},
   "source": [
    "# Preprocesing and Feature Engineering\n",
    "\n",
    "This notebook provides a comprehensive preprocessing pipeline for the Spotify dataset. The goal is to transform raw data into a structured, clean, and feature-rich format suitable for machine learning models. The preprocessing steps ensure the dataset is consistent, relevant, and optimized for analysis and training."
   ]
  },
  {
   "cell_type": "markdown",
   "metadata": {},
   "source": [
    "## Importing Libraries\n",
    "\n",
    "- **Purpose:** Import necessary libraries for data manipulation, transformation, and preprocessing.\n",
    "- **Libraries Used:**\n",
    "  - `pandas`: For data manipulation and preprocessing.\n",
    "  - `numpy`: For numerical computations.\n",
    "  - `datetime`: To handle and compute date-related features.\n",
    "  - `sklearn.preprocessing`: For scaling and generating interaction terms."
   ]
  },
  {
   "cell_type": "code",
   "execution_count": 43,
   "metadata": {},
   "outputs": [],
   "source": [
    "# Importing the libraries\n",
    "from sklearn.preprocessing import MinMaxScaler, PolynomialFeatures\n",
    "import pandas as pd\n",
    "from datetime import datetime\n",
    "import numpy as np"
   ]
  },
  {
   "cell_type": "markdown",
   "metadata": {},
   "source": [
    "## Loading the Dataset\n",
    "- **File Source:** The dataset is loaded from a CSV file (`spotify-2023-cleaned.csv`) using `pandas.read_csv`.\n",
    "- **Encoding:** Explicit encoding is specified (`ISO-8859-1`) to handle potential special characters in the dataset.\n",
    "- **Next Steps:** Begin cleaning and preprocessing the dataset."
   ]
  },
  {
   "cell_type": "code",
   "execution_count": 44,
   "metadata": {},
   "outputs": [],
   "source": [
    "# Importing the dataset\n",
    "spotify_data = pd.read_csv(\n",
    "    'dataset/spotify-2023-cleaned.csv', encoding='ISO-8859-1')"
   ]
  },
  {
   "cell_type": "markdown",
   "metadata": {},
   "source": [
    "## Dropping Irrelevant Columns\n",
    "- **Columns Dropped:**\n",
    "  - `track_id`\n",
    "  - `track_name`\n",
    "  - `artist_name`\n",
    "- **Reason:** These columns are not relevant to the analysis and modeling process."
   ]
  },
  {
   "cell_type": "code",
   "execution_count": 45,
   "metadata": {},
   "outputs": [],
   "source": [
    "# Drop irrelevant columns\n",
    "columns_to_drop = ['track_id', 'track_name', 'artist_name']\n",
    "spotify_data.drop(columns=columns_to_drop, inplace=True)"
   ]
  },
  {
   "cell_type": "markdown",
   "metadata": {},
   "source": [
    "## Combining Release Date into a Single Feature\n",
    "- **Steps:**\n",
    "  - Convert `released_year`, `released_month`, and `released_day` into a single `release_date`.\n",
    "  - Calculate `days_since_release` using the current date (2024-12-01) as a reference.\n",
    "  - Drop the original date-related columns after computation.\n",
    "- **Purpose:** Convert discrete date features into a single numerical feature that captures the recency of the release."
   ]
  },
  {
   "cell_type": "code",
   "execution_count": 46,
   "metadata": {},
   "outputs": [],
   "source": [
    "# Combine release date into a single feature: \"days_since_release\"\n",
    "current_date = datetime(2024, 12, 1)\n",
    "spotify_data['release_date'] = pd.to_datetime({\n",
    "    'year': spotify_data['released_year'],\n",
    "    'month': spotify_data['released_month'],\n",
    "    'day': spotify_data['released_day']\n",
    "})\n",
    "spotify_data['days_since_release'] = (\n",
    "    current_date - spotify_data['release_date']).dt.days\n",
    "spotify_data.drop(columns=['release_date', 'released_year',\n",
    "                  'released_month', 'released_day'], inplace=True)"
   ]
  },
  {
   "cell_type": "markdown",
   "metadata": {},
   "source": [
    "## Normalizing Numerical Features\n",
    "- **Columns Normalized:**\n",
    "  - `bpm`, `danceability`, `valence`, `energy`, `streams`, `acousticness`, `instrumentalness`, `liveness`, `speechiness`, `days_since_release`.\n",
    "- **Method:** `MinMaxScaler` from `sklearn` scales the values between 0 and 1.\n",
    "- **Why Normalize:** To standardize the range of the numerical features for better model performance."
   ]
  },
  {
   "cell_type": "code",
   "execution_count": 47,
   "metadata": {},
   "outputs": [],
   "source": [
    "# Normalize numerical features\n",
    "numerical_features = ['bpm', 'danceability', 'valence', 'energy', 'streams', 'acousticness',\n",
    "                      'instrumentalness', 'liveness', 'speechiness', 'days_since_release']\n",
    "scaler = MinMaxScaler()\n",
    "spotify_data[numerical_features] = scaler.fit_transform(\n",
    "    spotify_data[numerical_features])"
   ]
  },
  {
   "cell_type": "markdown",
   "metadata": {},
   "source": [
    "## Encoding Categorical Features\n",
    "- **Features Encoded:**\n",
    "  - `key` (musical key)\n",
    "  - `mode` (Major or Minor mode)\n",
    "- **Method:** One-hot encoding with `drop_first=True` to avoid multicollinearity."
   ]
  },
  {
   "cell_type": "code",
   "execution_count": 48,
   "metadata": {},
   "outputs": [],
   "source": [
    "# One-hot encode categorical features\n",
    "categorical_features = ['key', 'mode']\n",
    "spotify_data = pd.get_dummies(\n",
    "    spotify_data, columns=categorical_features, drop_first=True)"
   ]
  },
  {
   "cell_type": "markdown",
   "metadata": {},
   "source": [
    "## Summarizing Platform Presence\n",
    "- **Steps:**\n",
    "  - Identify columns related to platform presence (e.g., playlist or chart-related features).\n",
    "  - Create a summary feature `platform_presence_summary` by summing all platform-related columns.\n",
    "  - Drop the individual platform columns after summarization.\n",
    "- **Purpose:** Reduce dimensionality while retaining the essence of platform-related data."
   ]
  },
  {
   "cell_type": "code",
   "execution_count": 49,
   "metadata": {},
   "outputs": [],
   "source": [
    "# Summarize platform presence\n",
    "platform_columns = [col for col in spotify_data.columns if 'playlist' in col.lower(\n",
    ") or 'chart' in col.lower()]\n",
    "if platform_columns:\n",
    "    spotify_data['platform_presence_summary'] = spotify_data[platform_columns].sum(\n",
    "        axis=1)\n",
    "    \n",
    "# Drop individual platform columns after summarization\n",
    "spotify_data.drop(columns=platform_columns, inplace=True)"
   ]
  },
  {
   "cell_type": "markdown",
   "metadata": {},
   "source": [
    "## Log Transformation of Streams\n",
    "- **Purpose:** Apply `log1p` transformation to reduce skewness in the `streams` feature, making it more suitable for modeling.\n",
    "- **Steps:**\n",
    "  - Transform `streams` into `log_streams`.\n",
    "  - Drop the original `streams` column after transformation."
   ]
  },
  {
   "cell_type": "code",
   "execution_count": 50,
   "metadata": {},
   "outputs": [],
   "source": [
    "# Log-transform the streams feature to reduce skewness (if applicable)\n",
    "if 'streams' in spotify_data.columns:\n",
    "    spotify_data['log_streams'] = np.log1p(spotify_data['streams'])\n",
    "    spotify_data.drop(columns=['streams'], inplace=True)"
   ]
  },
  {
   "cell_type": "markdown",
   "metadata": {},
   "source": [
    "## Generating Interaction Terms\n",
    "- **Selected Features:** \n",
    "  - `platform_presence_summary`, `danceability`, `energy`, `bpm`, `valence`, `artist_count`.\n",
    "- **Method:**\n",
    "  - Use `PolynomialFeatures` with `degree=2` to generate interaction-only terms.\n",
    "  - Create new features representing the interactions between the selected features.\n",
    "- **Purpose:** Capture nonlinear relationships between features to improve model accuracy."
   ]
  },
  {
   "cell_type": "code",
   "execution_count": 51,
   "metadata": {},
   "outputs": [],
   "source": [
    "# Generate interaction terms for selected features\n",
    "interaction_features = ['platform_presence_summary', 'danceability', 'energy', 'bpm', 'valence', 'artist_count']\n",
    "poly = PolynomialFeatures(degree=2, interaction_only=True, include_bias=False)\n",
    "interaction_terms = poly.fit_transform(spotify_data[interaction_features])\n",
    "\n",
    "# Create a DataFrame for the interaction terms\n",
    "interaction_feature_names = poly.get_feature_names_out(interaction_features)\n",
    "interaction_terms_df = pd.DataFrame(interaction_terms, columns=interaction_feature_names)"
   ]
  },
  {
   "cell_type": "markdown",
   "metadata": {},
   "source": [
    "## Merging Interaction Terms\n",
    "- **Steps:**\n",
    "  - Convert the generated interaction terms into a `DataFrame`.\n",
    "  - Merge these new features with the original dataset.\n",
    "  - Ensure no duplicate column names remain after the merge."
   ]
  },
  {
   "cell_type": "code",
   "execution_count": 52,
   "metadata": {},
   "outputs": [],
   "source": [
    "# Merge interaction terms with the original data\n",
    "spotify_data = pd.concat([spotify_data, interaction_terms_df], axis=1)\n",
    "\n",
    "# Ensure no duplicate column names\n",
    "spotify_data = spotify_data.loc[:, ~spotify_data.columns.duplicated()]"
   ]
  },
  {
   "cell_type": "markdown",
   "metadata": {},
   "source": [
    "## Saving the Preprocessed Dataset\n",
    "- **File Saved To:** `spotify-2023-preprocessed.csv`\n",
    "- **Reason:** Store the preprocessed dataset for model building and analysis."
   ]
  },
  {
   "cell_type": "code",
   "execution_count": 53,
   "metadata": {},
   "outputs": [
    {
     "name": "stdout",
     "output_type": "stream",
     "text": [
      "Preprocessing completed successfully!\n"
     ]
    }
   ],
   "source": [
    "# Save the preprocessed dataset\n",
    "spotify_data.to_csv('dataset/spotify-2023-preprocessed.csv', index=False)\n",
    "\n",
    "print('Preprocessing completed successfully!')"
   ]
  },
  {
   "cell_type": "markdown",
   "metadata": {},
   "source": [
    "## Dataset Summary and Inspection\n",
    "- **Method:** Use `info()` to display:\n",
    "  - Total number of entries.\n",
    "  - Data types of columns.\n",
    "  - Non-null counts to ensure no missing values.\n",
    "- **Result:** The dataset contains 945 entries and 39 features, including the new interaction terms and encoded features."
   ]
  },
  {
   "cell_type": "code",
   "execution_count": 54,
   "metadata": {},
   "outputs": [
    {
     "name": "stdout",
     "output_type": "stream",
     "text": [
      "<class 'pandas.core.frame.DataFrame'>\n",
      "RangeIndex: 945 entries, 0 to 944\n",
      "Data columns (total 39 columns):\n",
      " #   Column                                  Non-Null Count  Dtype  \n",
      "---  ------                                  --------------  -----  \n",
      " 0   artist_count                            945 non-null    int64  \n",
      " 1   bpm                                     945 non-null    float64\n",
      " 2   danceability                            945 non-null    float64\n",
      " 3   valence                                 945 non-null    float64\n",
      " 4   energy                                  945 non-null    float64\n",
      " 5   acousticness                            945 non-null    float64\n",
      " 6   instrumentalness                        945 non-null    float64\n",
      " 7   liveness                                945 non-null    float64\n",
      " 8   speechiness                             945 non-null    float64\n",
      " 9   days_since_release                      945 non-null    float64\n",
      " 10  key_A#                                  945 non-null    bool   \n",
      " 11  key_B                                   945 non-null    bool   \n",
      " 12  key_C                                   945 non-null    bool   \n",
      " 13  key_C#                                  945 non-null    bool   \n",
      " 14  key_D                                   945 non-null    bool   \n",
      " 15  key_D#                                  945 non-null    bool   \n",
      " 16  key_E                                   945 non-null    bool   \n",
      " 17  key_F                                   945 non-null    bool   \n",
      " 18  key_F#                                  945 non-null    bool   \n",
      " 19  key_G                                   945 non-null    bool   \n",
      " 20  key_G#                                  945 non-null    bool   \n",
      " 21  mode_Minor                              945 non-null    bool   \n",
      " 22  platform_presence_summary               945 non-null    float64\n",
      " 23  log_streams                             945 non-null    float64\n",
      " 24  platform_presence_summary danceability  945 non-null    float64\n",
      " 25  platform_presence_summary energy        945 non-null    float64\n",
      " 26  platform_presence_summary bpm           945 non-null    float64\n",
      " 27  platform_presence_summary valence       945 non-null    float64\n",
      " 28  platform_presence_summary artist_count  945 non-null    float64\n",
      " 29  danceability energy                     945 non-null    float64\n",
      " 30  danceability bpm                        945 non-null    float64\n",
      " 31  danceability valence                    945 non-null    float64\n",
      " 32  danceability artist_count               945 non-null    float64\n",
      " 33  energy bpm                              945 non-null    float64\n",
      " 34  energy valence                          945 non-null    float64\n",
      " 35  energy artist_count                     945 non-null    float64\n",
      " 36  bpm valence                             945 non-null    float64\n",
      " 37  bpm artist_count                        945 non-null    float64\n",
      " 38  valence artist_count                    945 non-null    float64\n",
      "dtypes: bool(12), float64(26), int64(1)\n",
      "memory usage: 210.5 KB\n"
     ]
    }
   ],
   "source": [
    "spotify_data.info()"
   ]
  },
  {
   "cell_type": "code",
   "execution_count": 55,
   "metadata": {},
   "outputs": [],
   "source": [
    "# Importing the libraries\n",
    "from sklearn.preprocessing import StandardScaler\n",
    "import pandas as pd\n",
    "from datetime import datetime\n",
    "import numpy as np\n",
    "\n",
    "# Importing the dataset\n",
    "spotify_data = pd.read_csv(\n",
    "    'dataset/spotify-2023-cleaned.csv', encoding='ISO-8859-1')\n",
    "\n",
    "# Drop irrelevant columns\n",
    "columns_to_drop = ['track_id', 'track_name', 'artist_name']\n",
    "spotify_data.drop(columns=columns_to_drop, inplace=True)\n",
    "\n",
    "# Combine release date into a single feature: \"days_since_release\"\n",
    "current_date = datetime(2024, 12, 1)\n",
    "spotify_data['release_date'] = pd.to_datetime({\n",
    "    'year': spotify_data['released_year'],\n",
    "    'month': spotify_data['released_month'],\n",
    "    'day': spotify_data['released_day']\n",
    "})\n",
    "spotify_data['days_since_release'] = (\n",
    "    current_date - spotify_data['release_date']).dt.days\n",
    "spotify_data.drop(columns=['release_date', 'released_year',\n",
    "                  'released_month', 'released_day'], inplace=True)\n",
    "\n",
    "# Standardize numerical features\n",
    "numerical_features = ['bpm', 'danceability', 'valence', 'energy', 'streams', 'acousticness',\n",
    "                      'instrumentalness', 'liveness', 'speechiness', 'days_since_release']\n",
    "scaler = StandardScaler()\n",
    "spotify_data[numerical_features] = scaler.fit_transform(\n",
    "    spotify_data[numerical_features])\n",
    "\n",
    "# One-hot encode categorical features\n",
    "categorical_features = ['key', 'mode']\n",
    "spotify_data = pd.get_dummies(\n",
    "    spotify_data, columns=categorical_features, drop_first=True)\n",
    "\n",
    "# Summarize platform presence\n",
    "platform_columns = [col for col in spotify_data.columns if 'playlist' in col.lower(\n",
    ") or 'chart' in col.lower()]\n",
    "if platform_columns:\n",
    "    spotify_data['platform_presence_summary'] = spotify_data[platform_columns].sum(\n",
    "        axis=1)\n",
    "    \n",
    "# Drop individual platform columns after summarization\n",
    "spotify_data.drop(columns=platform_columns, inplace=True)\n",
    "\n",
    "# Log-transform the streams feature to reduce skewness (if applicable)\n",
    "if 'streams' in spotify_data.columns:\n",
    "    spotify_data['log_streams'] = np.log1p(spotify_data['streams'])\n",
    "    spotify_data.drop(columns=['streams'], inplace=True)\n",
    "\n",
    "# Generate interaction terms for selected features\n",
    "interaction_features = ['platform_presence_summary', 'danceability', 'energy', 'bpm', 'valence', 'artist_count']\n",
    "poly = PolynomialFeatures(degree=2, interaction_only=True, include_bias=False)\n",
    "interaction_terms = poly.fit_transform(spotify_data[interaction_features])\n",
    "\n",
    "# Create a DataFrame for the interaction terms\n",
    "interaction_feature_names = poly.get_feature_names_out(interaction_features)\n",
    "interaction_terms_df = pd.DataFrame(interaction_terms, columns=interaction_feature_names)\n",
    "\n",
    "# Merge interaction terms with the original data\n",
    "spotify_data = pd.concat([spotify_data, interaction_terms_df], axis=1)\n",
    "\n",
    "# Ensure no duplicate column names\n",
    "spotify_data = spotify_data.loc[:, ~spotify_data.columns.duplicated()]"
   ]
  },
  {
   "cell_type": "code",
   "execution_count": 56,
   "metadata": {},
   "outputs": [
    {
     "name": "stdout",
     "output_type": "stream",
     "text": [
      "Preprocessing completed successfully!\n"
     ]
    }
   ],
   "source": [
    "# Save the preprocessed dataset\n",
    "spotify_data.to_csv('dataset/spotify-2023-preprocessed-v2.csv', index=False)\n",
    "\n",
    "print('Preprocessing completed successfully!')"
   ]
  },
  {
   "cell_type": "code",
   "execution_count": 57,
   "metadata": {},
   "outputs": [
    {
     "name": "stdout",
     "output_type": "stream",
     "text": [
      "<class 'pandas.core.frame.DataFrame'>\n",
      "RangeIndex: 945 entries, 0 to 944\n",
      "Data columns (total 39 columns):\n",
      " #   Column                                  Non-Null Count  Dtype  \n",
      "---  ------                                  --------------  -----  \n",
      " 0   artist_count                            945 non-null    int64  \n",
      " 1   bpm                                     945 non-null    float64\n",
      " 2   danceability                            945 non-null    float64\n",
      " 3   valence                                 945 non-null    float64\n",
      " 4   energy                                  945 non-null    float64\n",
      " 5   acousticness                            945 non-null    float64\n",
      " 6   instrumentalness                        945 non-null    float64\n",
      " 7   liveness                                945 non-null    float64\n",
      " 8   speechiness                             945 non-null    float64\n",
      " 9   days_since_release                      945 non-null    float64\n",
      " 10  key_A#                                  945 non-null    bool   \n",
      " 11  key_B                                   945 non-null    bool   \n",
      " 12  key_C                                   945 non-null    bool   \n",
      " 13  key_C#                                  945 non-null    bool   \n",
      " 14  key_D                                   945 non-null    bool   \n",
      " 15  key_D#                                  945 non-null    bool   \n",
      " 16  key_E                                   945 non-null    bool   \n",
      " 17  key_F                                   945 non-null    bool   \n",
      " 18  key_F#                                  945 non-null    bool   \n",
      " 19  key_G                                   945 non-null    bool   \n",
      " 20  key_G#                                  945 non-null    bool   \n",
      " 21  mode_Minor                              945 non-null    bool   \n",
      " 22  platform_presence_summary               945 non-null    float64\n",
      " 23  log_streams                             945 non-null    float64\n",
      " 24  platform_presence_summary danceability  945 non-null    float64\n",
      " 25  platform_presence_summary energy        945 non-null    float64\n",
      " 26  platform_presence_summary bpm           945 non-null    float64\n",
      " 27  platform_presence_summary valence       945 non-null    float64\n",
      " 28  platform_presence_summary artist_count  945 non-null    float64\n",
      " 29  danceability energy                     945 non-null    float64\n",
      " 30  danceability bpm                        945 non-null    float64\n",
      " 31  danceability valence                    945 non-null    float64\n",
      " 32  danceability artist_count               945 non-null    float64\n",
      " 33  energy bpm                              945 non-null    float64\n",
      " 34  energy valence                          945 non-null    float64\n",
      " 35  energy artist_count                     945 non-null    float64\n",
      " 36  bpm valence                             945 non-null    float64\n",
      " 37  bpm artist_count                        945 non-null    float64\n",
      " 38  valence artist_count                    945 non-null    float64\n",
      "dtypes: bool(12), float64(26), int64(1)\n",
      "memory usage: 210.5 KB\n"
     ]
    }
   ],
   "source": [
    "spotify_data.info()"
   ]
  }
 ],
 "metadata": {
  "kernelspec": {
   "display_name": "Python 3",
   "language": "python",
   "name": "python3"
  },
  "language_info": {
   "codemirror_mode": {
    "name": "ipython",
    "version": 3
   },
   "file_extension": ".py",
   "mimetype": "text/x-python",
   "name": "python",
   "nbconvert_exporter": "python",
   "pygments_lexer": "ipython3",
   "version": "3.11.9"
  }
 },
 "nbformat": 4,
 "nbformat_minor": 2
}
